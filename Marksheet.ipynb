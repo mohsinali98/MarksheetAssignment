{
 "cells": [
  {
   "cell_type": "raw",
   "metadata": {},
   "source": [
    "***MARKSHEET***"
   ]
  },
  {
   "cell_type": "code",
   "execution_count": 4,
   "metadata": {},
   "outputs": [
    {
     "name": "stdout",
     "output_type": "stream",
     "text": [
      "************ MARKSHEET **************\n",
      "Enter Your Name: Mohsin\n",
      "Enter Marks Of Chemistry out of 100: 90\n",
      "Enter Marks Of Physics out of 100: 92\n",
      "Enter Marks Of Mathematics out of 100: 95\n",
      "Enter Marks Of Urdu out of 100: 80\n",
      "Enter Marks Of Islamiat out of 100: 85\n",
      "442.0\n",
      "Your Percentage Is:\n",
      "88.4\n",
      "Your Grade is A\n",
      "\n",
      "File Read: \n",
      "Name = Mohsin\n",
      "Chemistry = 90\n",
      "Physics = 92\n",
      "Mathematics = 95\n",
      "Urdu = 80\n",
      "Islamiat = 85\n",
      "Total Marks = 442.0\n",
      "Percentage = 88.4\n",
      "Grade = A\n",
      "\n"
     ]
    }
   ],
   "source": [
    "print(\"************ MARKSHEET **************\")\n",
    "name=input(\"Enter Your Name: \")\n",
    "c1=input(\"Enter Marks Of Chemistry out of 100: \")\n",
    "c2=input(\"Enter Marks Of Physics out of 100: \")\n",
    "c3=input(\"Enter Marks Of Mathematics out of 100: \")\n",
    "c4=input(\"Enter Marks Of Urdu out of 100: \")\n",
    "c5=input(\"Enter Marks Of Islamiat out of 100: \")\n",
    "total_marks=float(c1)+float(c2)+float(c3)+float(c4)+float(c5)\n",
    "print(total_marks)\n",
    "percentage=(total_marks/500)*100\n",
    "print(\"Your Percentage Is:\")\n",
    "print(percentage)\n",
    "if(percentage>=90 and percentage<=99):\n",
    "    grade=\"A+\"\n",
    "    print(\"Your Grade is A+\")\n",
    "elif(percentage>=80 and percentage<=89):\n",
    "    grade=\"A\"\n",
    "    print(\"Your Grade is A\")\n",
    "elif(percentage>=70 and percentage<=79):\n",
    "    grade=\"B\"\n",
    "    print(\"Your Grade is B\")    \n",
    "elif(percentage>=60 and percentage<=69):\n",
    "    grade=\"C\"\n",
    "    print(\"Your Grade is C\")\n",
    "elif(percentage>=50 and percentage<=59):\n",
    "    grade=\"D\"\n",
    "    print(\"Your Grade is D\")\n",
    "elif(percentage<50):\n",
    "    grade=\"F\"\n",
    "    print(\"Your Grade is F\")\n",
    "    \n",
    "with open(\"Marksheetdata.txt\",\"w\") as writeFile:\n",
    "    writeFile.write(\"Name = \"+name+\"\\n\")\n",
    "    writeFile.write(\"Chemistry = \"+c1+\"\\n\")\n",
    "    writeFile.write(\"Physics = \"+c2+\"\\n\")\n",
    "    writeFile.write(\"Mathematics = \"+c3+\"\\n\")\n",
    "    writeFile.write(\"Urdu = \"+c4+\"\\n\")\n",
    "    writeFile.write(\"Islamiat = \"+c5+\"\\n\")\n",
    "    writeFile.write(\"Total Marks = \"+str(total_marks)+\"\\n\")\n",
    "    writeFile.write(\"Percentage = \"+str(percentage)+\"\\n\")\n",
    "    writeFile.write(\"Grade = \"+grade+\"\\n\")\n",
    "    \n",
    "print(\"\\nFile Read: \")    \n",
    "with open(\"Marksheetdata.txt\",\"r\") as readFile:\n",
    "    readtext=readFile.read()\n",
    "    print(readtext)\n",
    "    \n",
    "    "
   ]
  }
 ],
 "metadata": {
  "kernelspec": {
   "display_name": "Python 3",
   "language": "python",
   "name": "python3"
  },
  "language_info": {
   "codemirror_mode": {
    "name": "ipython",
    "version": 3
   },
   "file_extension": ".py",
   "mimetype": "text/x-python",
   "name": "python",
   "nbconvert_exporter": "python",
   "pygments_lexer": "ipython3",
   "version": "3.7.3"
  }
 },
 "nbformat": 4,
 "nbformat_minor": 2
}
